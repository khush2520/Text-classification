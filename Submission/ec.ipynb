{
 "cells": [
  {
   "cell_type": "code",
   "execution_count": 7,
   "metadata": {},
   "outputs": [],
   "source": [
    "positive_words = set()\n",
    "negative_words = set()\n",
    "\n",
    "with open('positive-words.txt', 'r') as file:\n",
    "    positive_words.update(line.strip() for line in file)\n",
    "\n",
    "with open('negative-words.txt', 'r') as file:\n",
    "    negative_words.update(line.strip() for line in file)\n",
    "\n",
    "def preprocess_text(text):\n",
    "    words = text.lower().split()\n",
    "    \n",
    "    words = [word.strip('.,!?\")(') for word in words]\n",
    "    \n",
    "    return words\n",
    "\n",
    "def calculate_sentiment_score(review, positive_words, negative_words):\n",
    "    words = preprocess_text(review)\n",
    "    \n",
    "    # Count positive and negative words\n",
    "    positive_count = sum(1 for word in words if word in positive_words)\n",
    "    negative_count = sum(1 for word in words if word in negative_words)\n",
    "    positive_word = [word for word in words if word in positive_words]\n",
    "    negative_word = [word for word in words if word in negative_words]\n",
    "    \n",
    "    sentiment_score = positive_count - negative_count\n",
    "    # print(positive_word, negative_word, positive_count,negative_count)\n",
    "    return sentiment_score\n",
    "\n",
    "def analyze_sentiment(review, positive_words, negative_words):\n",
    "    sentiment_score = calculate_sentiment_score(review, positive_words, negative_words)\n",
    "    \n",
    "    if sentiment_score > 0:\n",
    "        return \"Positive\"\n",
    "    else:\n",
    "        return \"Negative\"\n",
    "\n"
   ]
  },
  {
   "cell_type": "code",
   "execution_count": 8,
   "metadata": {},
   "outputs": [
    {
     "name": "stdout",
     "output_type": "stream",
     "text": [
      "Confusion matrix:\n",
      " [[107  53]\n",
      " [ 45 115]] \n",
      "Accuracy: 0.69375\n",
      "Precision: 0.6942355889724311\n",
      "Recall: 0.69375\n",
      "F1 Score: 0.6935584740462789\n"
     ]
    }
   ],
   "source": [
    "import os\n",
    "from sklearn.metrics import confusion_matrix,accuracy_score, precision_score, recall_score, f1_score\n",
    "\n",
    "test_reviews = []\n",
    "true_labels = []\n",
    "\n",
    "test_folder = \"test\"\n",
    "for filename in os.listdir(test_folder):\n",
    "    if filename.endswith(\".txt\"):\n",
    "        with open(os.path.join(test_folder, filename), 'r') as file:\n",
    "            review = file.read()\n",
    "            test_reviews.append(review)\n",
    "            if \"pos\" in filename:\n",
    "                true_labels.append(\"Positive\")\n",
    "            elif \"neg\" in filename:\n",
    "                true_labels.append(\"Negative\")\n",
    "\n",
    "predicted_labels = [analyze_sentiment(review, positive_words, negative_words) for review in test_reviews]\n",
    "\n",
    "accuracy = accuracy_score(true_labels, predicted_labels)\n",
    "precision = precision_score(true_labels, predicted_labels, average='macro')\n",
    "recall = recall_score(true_labels, predicted_labels, average='macro')\n",
    "f1 = f1_score(true_labels, predicted_labels, average='macro')\n",
    "cm = confusion_matrix(true_labels, predicted_labels, labels=['Positive', 'Negative'])\n",
    "\n",
    "print(\"Confusion matrix:\\n\", cm, \"\\nAccuracy:\", accuracy)\n",
    "print(\"Precision:\", precision)\n",
    "print(\"Recall:\", recall)\n",
    "print(\"F1 Score:\", f1)\n"
   ]
  },
  {
   "cell_type": "code",
   "execution_count": null,
   "metadata": {},
   "outputs": [],
   "source": []
  }
 ],
 "metadata": {
  "kernelspec": {
   "display_name": "Python 3",
   "language": "python",
   "name": "python3"
  },
  "language_info": {
   "codemirror_mode": {
    "name": "ipython",
    "version": 3
   },
   "file_extension": ".py",
   "mimetype": "text/x-python",
   "name": "python",
   "nbconvert_exporter": "python",
   "pygments_lexer": "ipython3",
   "version": "3.10.12"
  },
  "orig_nbformat": 4
 },
 "nbformat": 4,
 "nbformat_minor": 2
}
